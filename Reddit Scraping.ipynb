{
 "cells": [
  {
   "cell_type": "markdown",
   "metadata": {},
   "source": [
    "**Problem Statement**"
   ]
  },
  {
   "cell_type": "markdown",
   "metadata": {},
   "source": [
    "As an employee of Niantic, the company behind the Pokemon Go mobile game, I'm interested in determing if there is a difference in post topics/contents between two Pokemon Go related subreddits (r/pokemongo and r/theSilphRoad). The r/pokemongo subreddit is supposedly tailored towards general topics of conversation while the r/theSilphRoad subreddit is supposedly more for research into the mechanics behind the game.\n",
    "\n",
    "To determine if there is a difference, I will be using an number of classification models to predict whether a post belongs to r/theSilphRoad or not. I will be evaluating the models based on accuracy score and the coefficients of the model with the highest accuracy will be analyzed to determine what words/phrases are predictive of the specific subreddit.\n",
    "\n",
    "Knowing this information is helpful since both of these subreddits contain end-user feedback regarding our game. Specifically, we would like to have our employees montoring these subreddits and if would be helpful to know if we should have employees monitoring both subreddits if the topics are roughly the same or if it would be best to assign a more technical employee to theSilphRoad subreddit."
   ]
  },
  {
   "cell_type": "markdown",
   "metadata": {},
   "source": [
    "**Imports**"
   ]
  },
  {
   "cell_type": "code",
   "execution_count": 2,
   "metadata": {},
   "outputs": [],
   "source": [
    "import requests\n",
    "import time\n",
    "import pandas as pd"
   ]
  },
  {
   "cell_type": "markdown",
   "metadata": {},
   "source": [
    "**Reddit Scrapping 07/08/19**"
   ]
  },
  {
   "cell_type": "code",
   "execution_count": 3,
   "metadata": {},
   "outputs": [],
   "source": [
    "headers = {'User-agent':'StevePokeGet'}"
   ]
  },
  {
   "cell_type": "code",
   "execution_count": 16,
   "metadata": {},
   "outputs": [
    {
     "name": "stdout",
     "output_type": "stream",
     "text": [
      "27 posts scraped for a total of 27\n",
      "Current after: t3_cakjf8\n",
      "25 posts scraped for a total of 52\n",
      "Current after: t3_cat2ow\n",
      "25 posts scraped for a total of 77\n",
      "Current after: t3_ca9q5m\n",
      "25 posts scraped for a total of 102\n",
      "Current after: t3_ca1hvd\n",
      "25 posts scraped for a total of 127\n",
      "Current after: t3_c9j036\n",
      "25 posts scraped for a total of 152\n",
      "Current after: t3_ca4yl1\n",
      "25 posts scraped for a total of 177\n",
      "Current after: t3_ca1tcj\n",
      "25 posts scraped for a total of 202\n",
      "Current after: t3_c9x724\n",
      "25 posts scraped for a total of 227\n",
      "Current after: t3_ca0c56\n",
      "25 posts scraped for a total of 252\n",
      "Current after: t3_c9w8lj\n",
      "25 posts scraped for a total of 277\n",
      "Current after: t3_c946ke\n",
      "25 posts scraped for a total of 302\n",
      "Current after: t3_c9fh1z\n",
      "25 posts scraped for a total of 327\n",
      "Current after: t3_c92mzr\n",
      "25 posts scraped for a total of 352\n",
      "Current after: t3_c9ick5\n",
      "25 posts scraped for a total of 377\n",
      "Current after: t3_c9bk1y\n",
      "25 posts scraped for a total of 402\n",
      "Current after: t3_c97wyq\n",
      "25 posts scraped for a total of 427\n",
      "Current after: t3_c8rzyc\n",
      "25 posts scraped for a total of 452\n",
      "Current after: t3_c8oquy\n",
      "25 posts scraped for a total of 477\n",
      "Current after: t3_c8c6y3\n",
      "25 posts scraped for a total of 502\n",
      "Current after: t3_c88k6j\n",
      "25 posts scraped for a total of 527\n",
      "Current after: t3_c8b1gs\n",
      "25 posts scraped for a total of 552\n",
      "Current after: t3_c8i4yj\n",
      "25 posts scraped for a total of 577\n",
      "Current after: t3_c7tdo0\n",
      "25 posts scraped for a total of 602\n",
      "Current after: t3_c8e77p\n",
      "25 posts scraped for a total of 627\n",
      "Current after: t3_c7jo60\n",
      "25 posts scraped for a total of 652\n",
      "Current after: t3_c7iulm\n",
      "25 posts scraped for a total of 677\n",
      "Current after: t3_c7ieic\n",
      "25 posts scraped for a total of 702\n",
      "Current after: t3_c7yqcv\n",
      "25 posts scraped for a total of 727\n",
      "Current after: t3_c7pr4m\n",
      "25 posts scraped for a total of 752\n",
      "Current after: t3_c7q4xk\n",
      "25 posts scraped for a total of 777\n",
      "Current after: t3_c7j2hb\n",
      "25 posts scraped for a total of 802\n",
      "Current after: t3_c6x7o5\n",
      "25 posts scraped for a total of 827\n",
      "Current after: t3_c7htvb\n",
      "10 posts scraped for a total of 837\n",
      "Current after: None\n",
      "27 posts scraped for a total of 864\n",
      "Current after: t3_cakjf8\n",
      "25 posts scraped for a total of 889\n",
      "Current after: t3_cat2ow\n",
      "25 posts scraped for a total of 914\n",
      "Current after: t3_ca9q5m\n",
      "25 posts scraped for a total of 939\n",
      "Current after: t3_ca1hvd\n",
      "25 posts scraped for a total of 964\n",
      "Current after: t3_c9j036\n",
      "25 posts scraped for a total of 989\n",
      "Current after: t3_ca4yl1\n"
     ]
    }
   ],
   "source": [
    "## code to scrape theSilphRoad subreddit\n",
    "## run at 6:08 PM on 7/8/19\n",
    "posts_silph = []\n",
    "after = \"\"\n",
    "for _ in range(40):\n",
    "    if after == \"\":\n",
    "        params = []\n",
    "    else:\n",
    "        params = {'after':after}\n",
    "    url = 'https://www.reddit.com/r/TheSilphRoad.json'\n",
    "    res = requests.get(url,params=params,headers=headers)\n",
    "    if res.status_code == 200:\n",
    "        the_json = res.json()\n",
    "        for post in the_json['data']['children']:\n",
    "            posts_silph.append(post['data'])\n",
    "        after = the_json['data']['after']\n",
    "    else:\n",
    "        print(res.status_code)\n",
    "        break\n",
    "        \n",
    "    print(f\"{len(the_json['data']['children'])} posts scraped for a total of {len(posts_silph)}\")\n",
    "    print(f\"Current after: {after}\")\n",
    "    time.sleep(1)"
   ]
  },
  {
   "cell_type": "code",
   "execution_count": 17,
   "metadata": {},
   "outputs": [
    {
     "data": {
      "text/html": [
       "<div>\n",
       "<style scoped>\n",
       "    .dataframe tbody tr th:only-of-type {\n",
       "        vertical-align: middle;\n",
       "    }\n",
       "\n",
       "    .dataframe tbody tr th {\n",
       "        vertical-align: top;\n",
       "    }\n",
       "\n",
       "    .dataframe thead th {\n",
       "        text-align: right;\n",
       "    }\n",
       "</style>\n",
       "<table border=\"1\" class=\"dataframe\">\n",
       "  <thead>\n",
       "    <tr style=\"text-align: right;\">\n",
       "      <th></th>\n",
       "      <th>all_awardings</th>\n",
       "      <th>allow_live_comments</th>\n",
       "      <th>approved_at_utc</th>\n",
       "      <th>approved_by</th>\n",
       "      <th>archived</th>\n",
       "      <th>author</th>\n",
       "      <th>author_cakeday</th>\n",
       "      <th>author_flair_background_color</th>\n",
       "      <th>author_flair_css_class</th>\n",
       "      <th>author_flair_richtext</th>\n",
       "      <th>...</th>\n",
       "      <th>thumbnail_width</th>\n",
       "      <th>title</th>\n",
       "      <th>total_awards_received</th>\n",
       "      <th>ups</th>\n",
       "      <th>url</th>\n",
       "      <th>user_reports</th>\n",
       "      <th>view_count</th>\n",
       "      <th>visited</th>\n",
       "      <th>whitelist_status</th>\n",
       "      <th>wls</th>\n",
       "    </tr>\n",
       "  </thead>\n",
       "  <tbody>\n",
       "    <tr>\n",
       "      <th>0</th>\n",
       "      <td>[{'is_enabled': True, 'count': 2, 'subreddit_i...</td>\n",
       "      <td>True</td>\n",
       "      <td>None</td>\n",
       "      <td>None</td>\n",
       "      <td>True</td>\n",
       "      <td>dronpes</td>\n",
       "      <td>NaN</td>\n",
       "      <td></td>\n",
       "      <td>silph-executive</td>\n",
       "      <td>[{'e': 'text', 't': 'Executive'}]</td>\n",
       "      <td>...</td>\n",
       "      <td>NaN</td>\n",
       "      <td>Welcome to the Silph Road! Here's what you nee...</td>\n",
       "      <td>2</td>\n",
       "      <td>4091</td>\n",
       "      <td>https://www.reddit.com/r/TheSilphRoad/comments...</td>\n",
       "      <td>[]</td>\n",
       "      <td>None</td>\n",
       "      <td>False</td>\n",
       "      <td>all_ads</td>\n",
       "      <td>6</td>\n",
       "    </tr>\n",
       "    <tr>\n",
       "      <th>1</th>\n",
       "      <td>[]</td>\n",
       "      <td>False</td>\n",
       "      <td>None</td>\n",
       "      <td>None</td>\n",
       "      <td>False</td>\n",
       "      <td>dronpes</td>\n",
       "      <td>NaN</td>\n",
       "      <td></td>\n",
       "      <td>silph-executive</td>\n",
       "      <td>[{'e': 'text', 't': 'Executive'}]</td>\n",
       "      <td>...</td>\n",
       "      <td>140.0</td>\n",
       "      <td>Headed to GO Fest? Be sure to come say hello! ...</td>\n",
       "      <td>0</td>\n",
       "      <td>336</td>\n",
       "      <td>https://i.redd.it/dzpsgjv793731.jpg</td>\n",
       "      <td>[]</td>\n",
       "      <td>None</td>\n",
       "      <td>False</td>\n",
       "      <td>all_ads</td>\n",
       "      <td>6</td>\n",
       "    </tr>\n",
       "    <tr>\n",
       "      <th>2</th>\n",
       "      <td>[]</td>\n",
       "      <td>True</td>\n",
       "      <td>None</td>\n",
       "      <td>None</td>\n",
       "      <td>False</td>\n",
       "      <td>ThatGuyTre</td>\n",
       "      <td>NaN</td>\n",
       "      <td>None</td>\n",
       "      <td>None</td>\n",
       "      <td>[]</td>\n",
       "      <td>...</td>\n",
       "      <td>140.0</td>\n",
       "      <td>Apparently my hotel is a lake</td>\n",
       "      <td>0</td>\n",
       "      <td>2568</td>\n",
       "      <td>https://i.redd.it/i0z2b5df72931.jpg</td>\n",
       "      <td>[]</td>\n",
       "      <td>None</td>\n",
       "      <td>False</td>\n",
       "      <td>all_ads</td>\n",
       "      <td>6</td>\n",
       "    </tr>\n",
       "    <tr>\n",
       "      <th>3</th>\n",
       "      <td>[]</td>\n",
       "      <td>True</td>\n",
       "      <td>None</td>\n",
       "      <td>None</td>\n",
       "      <td>False</td>\n",
       "      <td>Huaojozu</td>\n",
       "      <td>NaN</td>\n",
       "      <td>None</td>\n",
       "      <td>western-europe-european-union</td>\n",
       "      <td>[]</td>\n",
       "      <td>...</td>\n",
       "      <td>NaN</td>\n",
       "      <td>With Team GO Rocket coming, it would be really...</td>\n",
       "      <td>0</td>\n",
       "      <td>382</td>\n",
       "      <td>https://www.reddit.com/r/TheSilphRoad/comments...</td>\n",
       "      <td>[]</td>\n",
       "      <td>None</td>\n",
       "      <td>False</td>\n",
       "      <td>all_ads</td>\n",
       "      <td>6</td>\n",
       "    </tr>\n",
       "    <tr>\n",
       "      <th>4</th>\n",
       "      <td>[]</td>\n",
       "      <td>False</td>\n",
       "      <td>None</td>\n",
       "      <td>None</td>\n",
       "      <td>False</td>\n",
       "      <td>JaceMasood</td>\n",
       "      <td>NaN</td>\n",
       "      <td>None</td>\n",
       "      <td>usa-midwest-wheat</td>\n",
       "      <td>[{'e': 'text', 't': 'JACEMAKINGS '}, {'a': ':u...</td>\n",
       "      <td>...</td>\n",
       "      <td>140.0</td>\n",
       "      <td>TOP 20 COUNTERS - Armored Mewtwo [Now with ful...</td>\n",
       "      <td>0</td>\n",
       "      <td>144</td>\n",
       "      <td>https://i.redd.it/52jf0mh9v5931.png</td>\n",
       "      <td>[]</td>\n",
       "      <td>None</td>\n",
       "      <td>False</td>\n",
       "      <td>all_ads</td>\n",
       "      <td>6</td>\n",
       "    </tr>\n",
       "  </tbody>\n",
       "</table>\n",
       "<p>5 rows × 104 columns</p>\n",
       "</div>"
      ],
      "text/plain": [
       "                                       all_awardings  allow_live_comments  \\\n",
       "0  [{'is_enabled': True, 'count': 2, 'subreddit_i...                 True   \n",
       "1                                                 []                False   \n",
       "2                                                 []                 True   \n",
       "3                                                 []                 True   \n",
       "4                                                 []                False   \n",
       "\n",
       "  approved_at_utc approved_by  archived      author author_cakeday  \\\n",
       "0            None        None      True     dronpes            NaN   \n",
       "1            None        None     False     dronpes            NaN   \n",
       "2            None        None     False  ThatGuyTre            NaN   \n",
       "3            None        None     False    Huaojozu            NaN   \n",
       "4            None        None     False  JaceMasood            NaN   \n",
       "\n",
       "  author_flair_background_color         author_flair_css_class  \\\n",
       "0                                              silph-executive   \n",
       "1                                              silph-executive   \n",
       "2                          None                           None   \n",
       "3                          None  western-europe-european-union   \n",
       "4                          None              usa-midwest-wheat   \n",
       "\n",
       "                               author_flair_richtext  ... thumbnail_width  \\\n",
       "0                  [{'e': 'text', 't': 'Executive'}]  ...             NaN   \n",
       "1                  [{'e': 'text', 't': 'Executive'}]  ...           140.0   \n",
       "2                                                 []  ...           140.0   \n",
       "3                                                 []  ...             NaN   \n",
       "4  [{'e': 'text', 't': 'JACEMAKINGS '}, {'a': ':u...  ...           140.0   \n",
       "\n",
       "                                               title total_awards_received  \\\n",
       "0  Welcome to the Silph Road! Here's what you nee...                     2   \n",
       "1  Headed to GO Fest? Be sure to come say hello! ...                     0   \n",
       "2                      Apparently my hotel is a lake                     0   \n",
       "3  With Team GO Rocket coming, it would be really...                     0   \n",
       "4  TOP 20 COUNTERS - Armored Mewtwo [Now with ful...                     0   \n",
       "\n",
       "    ups                                                url  user_reports  \\\n",
       "0  4091  https://www.reddit.com/r/TheSilphRoad/comments...            []   \n",
       "1   336                https://i.redd.it/dzpsgjv793731.jpg            []   \n",
       "2  2568                https://i.redd.it/i0z2b5df72931.jpg            []   \n",
       "3   382  https://www.reddit.com/r/TheSilphRoad/comments...            []   \n",
       "4   144                https://i.redd.it/52jf0mh9v5931.png            []   \n",
       "\n",
       "  view_count visited  whitelist_status  wls  \n",
       "0       None   False           all_ads    6  \n",
       "1       None   False           all_ads    6  \n",
       "2       None   False           all_ads    6  \n",
       "3       None   False           all_ads    6  \n",
       "4       None   False           all_ads    6  \n",
       "\n",
       "[5 rows x 104 columns]"
      ]
     },
     "execution_count": 17,
     "metadata": {},
     "output_type": "execute_result"
    }
   ],
   "source": [
    "dfsilph = pd.DataFrame(posts_silph)\n",
    "dfsilph.head()"
   ]
  },
  {
   "cell_type": "code",
   "execution_count": 34,
   "metadata": {},
   "outputs": [],
   "source": [
    "#Used this code to get a list of columns and identify which ones to identify duplicates by\n",
    "#commenting it out for readability\n",
    "#list(dfsilph.columns)"
   ]
  },
  {
   "cell_type": "code",
   "execution_count": 21,
   "metadata": {},
   "outputs": [
    {
     "data": {
      "text/plain": [
       "0    /r/TheSilphRoad/comments/4tll96/welcome_to_the...\n",
       "1    /r/TheSilphRoad/comments/c6jiw5/headed_to_go_f...\n",
       "2    /r/TheSilphRoad/comments/cajhui/apparently_my_...\n",
       "3    /r/TheSilphRoad/comments/caqi78/with_team_go_r...\n",
       "4    /r/TheSilphRoad/comments/casg1z/top_20_counter...\n",
       "Name: permalink, dtype: object"
      ]
     },
     "execution_count": 21,
     "metadata": {},
     "output_type": "execute_result"
    }
   ],
   "source": [
    "#I'm going to use permalink column, I think id works too but I'm not sure if the posts on this subreddit\n",
    "#recycle the ids, permalink should always work though\n",
    "dfsilph['permalink'].head()"
   ]
  },
  {
   "cell_type": "code",
   "execution_count": 22,
   "metadata": {},
   "outputs": [
    {
     "data": {
      "text/plain": [
       "(989, 104)"
      ]
     },
     "execution_count": 22,
     "metadata": {},
     "output_type": "execute_result"
    }
   ],
   "source": [
    "#confirm dataframe size before\n",
    "dfsilph.shape"
   ]
  },
  {
   "cell_type": "code",
   "execution_count": 25,
   "metadata": {},
   "outputs": [],
   "source": [
    "#remove duplicate rows\n",
    "dfsilph.drop_duplicates(subset='permalink',inplace=True)"
   ]
  },
  {
   "cell_type": "code",
   "execution_count": 26,
   "metadata": {},
   "outputs": [
    {
     "data": {
      "text/plain": [
       "(837, 104)"
      ]
     },
     "execution_count": 26,
     "metadata": {},
     "output_type": "execute_result"
    }
   ],
   "source": [
    "#return dataframe size after\n",
    "dfsilph.shape"
   ]
  },
  {
   "cell_type": "code",
   "execution_count": 35,
   "metadata": {},
   "outputs": [],
   "source": [
    "#output scrape to csv\n",
    "dfsilph.to_csv('Silph_scrape_0708.csv',index=False)"
   ]
  },
  {
   "cell_type": "code",
   "execution_count": 27,
   "metadata": {},
   "outputs": [
    {
     "name": "stdout",
     "output_type": "stream",
     "text": [
      "27 posts scraped for a total of 27\n",
      "Current after: t3_carkog\n",
      "25 posts scraped for a total of 52\n",
      "Current after: t3_caa2xy\n",
      "25 posts scraped for a total of 77\n",
      "Current after: t3_ca9j79\n",
      "25 posts scraped for a total of 102\n",
      "Current after: t3_cajig3\n",
      "25 posts scraped for a total of 127\n",
      "Current after: t3_cagkk4\n",
      "25 posts scraped for a total of 152\n",
      "Current after: t3_cabgf4\n",
      "25 posts scraped for a total of 177\n",
      "Current after: t3_c9pcrx\n",
      "25 posts scraped for a total of 202\n",
      "Current after: t3_c9wal8\n",
      "25 posts scraped for a total of 227\n",
      "Current after: t3_c9wnyz\n",
      "25 posts scraped for a total of 252\n",
      "Current after: t3_ca1qig\n",
      "25 posts scraped for a total of 277\n",
      "Current after: t3_c9n2v9\n",
      "25 posts scraped for a total of 302\n",
      "Current after: t3_c9wpt0\n",
      "25 posts scraped for a total of 327\n",
      "Current after: t3_c9a3fo\n",
      "25 posts scraped for a total of 352\n",
      "Current after: t3_c9ag2q\n",
      "25 posts scraped for a total of 377\n",
      "Current after: t3_c9npbo\n",
      "25 posts scraped for a total of 402\n",
      "Current after: t3_c93n2n\n",
      "17 posts scraped for a total of 419\n",
      "Current after: None\n",
      "27 posts scraped for a total of 446\n",
      "Current after: t3_carkog\n",
      "25 posts scraped for a total of 471\n",
      "Current after: t3_caa2xy\n",
      "25 posts scraped for a total of 496\n",
      "Current after: t3_ca9j79\n",
      "25 posts scraped for a total of 521\n",
      "Current after: t3_cajig3\n",
      "25 posts scraped for a total of 546\n",
      "Current after: t3_cagkk4\n",
      "25 posts scraped for a total of 571\n",
      "Current after: t3_cabgf4\n",
      "25 posts scraped for a total of 596\n",
      "Current after: t3_c9pcrx\n",
      "25 posts scraped for a total of 621\n",
      "Current after: t3_c9wal8\n"
     ]
    }
   ],
   "source": [
    "## code to scrape the pokemongo subreddit\n",
    "## run at 6:15 PM on 7/8/19\n",
    "posts_pogo = []\n",
    "after = \"\"\n",
    "for _ in range(25):\n",
    "    if after == \"\":\n",
    "        params = []\n",
    "    else:\n",
    "        params = {'after':after}\n",
    "    url = 'https://www.reddit.com/r/pokemongo.json'\n",
    "    res = requests.get(url,params=params,headers=headers)\n",
    "    if res.status_code == 200:\n",
    "        the_json = res.json()\n",
    "        for post in the_json['data']['children']:\n",
    "            posts_pogo.append(post['data'])\n",
    "        after = the_json['data']['after']\n",
    "    else:\n",
    "        print(res.status_code)\n",
    "        break\n",
    "        \n",
    "    print(f\"{len(the_json['data']['children'])} posts scraped for a total of {len(posts_pogo)}\")\n",
    "    print(f\"Current after: {after}\")\n",
    "    time.sleep(1)"
   ]
  },
  {
   "cell_type": "code",
   "execution_count": 28,
   "metadata": {},
   "outputs": [
    {
     "data": {
      "text/html": [
       "<div>\n",
       "<style scoped>\n",
       "    .dataframe tbody tr th:only-of-type {\n",
       "        vertical-align: middle;\n",
       "    }\n",
       "\n",
       "    .dataframe tbody tr th {\n",
       "        vertical-align: top;\n",
       "    }\n",
       "\n",
       "    .dataframe thead th {\n",
       "        text-align: right;\n",
       "    }\n",
       "</style>\n",
       "<table border=\"1\" class=\"dataframe\">\n",
       "  <thead>\n",
       "    <tr style=\"text-align: right;\">\n",
       "      <th></th>\n",
       "      <th>all_awardings</th>\n",
       "      <th>allow_live_comments</th>\n",
       "      <th>approved_at_utc</th>\n",
       "      <th>approved_by</th>\n",
       "      <th>archived</th>\n",
       "      <th>author</th>\n",
       "      <th>author_flair_background_color</th>\n",
       "      <th>author_flair_css_class</th>\n",
       "      <th>author_flair_richtext</th>\n",
       "      <th>author_flair_template_id</th>\n",
       "      <th>...</th>\n",
       "      <th>thumbnail_width</th>\n",
       "      <th>title</th>\n",
       "      <th>total_awards_received</th>\n",
       "      <th>ups</th>\n",
       "      <th>url</th>\n",
       "      <th>user_reports</th>\n",
       "      <th>view_count</th>\n",
       "      <th>visited</th>\n",
       "      <th>whitelist_status</th>\n",
       "      <th>wls</th>\n",
       "    </tr>\n",
       "  </thead>\n",
       "  <tbody>\n",
       "    <tr>\n",
       "      <th>0</th>\n",
       "      <td>[]</td>\n",
       "      <td>False</td>\n",
       "      <td>None</td>\n",
       "      <td>None</td>\n",
       "      <td>False</td>\n",
       "      <td>AutoModerator</td>\n",
       "      <td></td>\n",
       "      <td>automod</td>\n",
       "      <td>[]</td>\n",
       "      <td>None</td>\n",
       "      <td>...</td>\n",
       "      <td>NaN</td>\n",
       "      <td>Weekly questions, bugs, and gameplay megathrea...</td>\n",
       "      <td>0</td>\n",
       "      <td>15</td>\n",
       "      <td>https://www.reddit.com/r/pokemongo/comments/ca...</td>\n",
       "      <td>[]</td>\n",
       "      <td>None</td>\n",
       "      <td>False</td>\n",
       "      <td>all_ads</td>\n",
       "      <td>6</td>\n",
       "    </tr>\n",
       "    <tr>\n",
       "      <th>1</th>\n",
       "      <td>[]</td>\n",
       "      <td>False</td>\n",
       "      <td>None</td>\n",
       "      <td>None</td>\n",
       "      <td>False</td>\n",
       "      <td>AutoModerator</td>\n",
       "      <td></td>\n",
       "      <td>automod</td>\n",
       "      <td>[]</td>\n",
       "      <td>None</td>\n",
       "      <td>...</td>\n",
       "      <td>NaN</td>\n",
       "      <td>DEAR NIANTIC - ideas and suggestions for the devs</td>\n",
       "      <td>0</td>\n",
       "      <td>3</td>\n",
       "      <td>https://www.reddit.com/r/pokemongo/comments/ca...</td>\n",
       "      <td>[]</td>\n",
       "      <td>None</td>\n",
       "      <td>False</td>\n",
       "      <td>all_ads</td>\n",
       "      <td>6</td>\n",
       "    </tr>\n",
       "    <tr>\n",
       "      <th>2</th>\n",
       "      <td>[]</td>\n",
       "      <td>True</td>\n",
       "      <td>None</td>\n",
       "      <td>None</td>\n",
       "      <td>False</td>\n",
       "      <td>haveyouseenthisclown</td>\n",
       "      <td>None</td>\n",
       "      <td>valor</td>\n",
       "      <td>[]</td>\n",
       "      <td>e35d36dc-483a-11e6-9cf1-0e4e72062cff</td>\n",
       "      <td>...</td>\n",
       "      <td>NaN</td>\n",
       "      <td>SCORE! Thanks, Mom!</td>\n",
       "      <td>0</td>\n",
       "      <td>418</td>\n",
       "      <td>https://www.reddit.com/r/pokemongo/comments/ca...</td>\n",
       "      <td>[]</td>\n",
       "      <td>None</td>\n",
       "      <td>False</td>\n",
       "      <td>all_ads</td>\n",
       "      <td>6</td>\n",
       "    </tr>\n",
       "    <tr>\n",
       "      <th>3</th>\n",
       "      <td>[]</td>\n",
       "      <td>True</td>\n",
       "      <td>None</td>\n",
       "      <td>None</td>\n",
       "      <td>False</td>\n",
       "      <td>Rykun3159</td>\n",
       "      <td>None</td>\n",
       "      <td>None</td>\n",
       "      <td>[]</td>\n",
       "      <td>None</td>\n",
       "      <td>...</td>\n",
       "      <td>140.0</td>\n",
       "      <td>Pokemon Go Team Rocket event details leaked by...</td>\n",
       "      <td>0</td>\n",
       "      <td>78</td>\n",
       "      <td>https://piunikaweb.com/2019/07/09/pokemon-go-t...</td>\n",
       "      <td>[]</td>\n",
       "      <td>None</td>\n",
       "      <td>False</td>\n",
       "      <td>all_ads</td>\n",
       "      <td>6</td>\n",
       "    </tr>\n",
       "    <tr>\n",
       "      <th>4</th>\n",
       "      <td>[]</td>\n",
       "      <td>True</td>\n",
       "      <td>None</td>\n",
       "      <td>None</td>\n",
       "      <td>False</td>\n",
       "      <td>Razorfunk</td>\n",
       "      <td>None</td>\n",
       "      <td>None</td>\n",
       "      <td>[]</td>\n",
       "      <td>None</td>\n",
       "      <td>...</td>\n",
       "      <td>NaN</td>\n",
       "      <td>Make LUCKY TRADES available from afar like Bat...</td>\n",
       "      <td>0</td>\n",
       "      <td>433</td>\n",
       "      <td>https://www.reddit.com/r/pokemongo/comments/ca...</td>\n",
       "      <td>[]</td>\n",
       "      <td>None</td>\n",
       "      <td>False</td>\n",
       "      <td>all_ads</td>\n",
       "      <td>6</td>\n",
       "    </tr>\n",
       "  </tbody>\n",
       "</table>\n",
       "<p>5 rows × 103 columns</p>\n",
       "</div>"
      ],
      "text/plain": [
       "  all_awardings  allow_live_comments approved_at_utc approved_by  archived  \\\n",
       "0            []                False            None        None     False   \n",
       "1            []                False            None        None     False   \n",
       "2            []                 True            None        None     False   \n",
       "3            []                 True            None        None     False   \n",
       "4            []                 True            None        None     False   \n",
       "\n",
       "                 author author_flair_background_color author_flair_css_class  \\\n",
       "0         AutoModerator                                              automod   \n",
       "1         AutoModerator                                              automod   \n",
       "2  haveyouseenthisclown                          None                  valor   \n",
       "3             Rykun3159                          None                   None   \n",
       "4             Razorfunk                          None                   None   \n",
       "\n",
       "  author_flair_richtext              author_flair_template_id  ...  \\\n",
       "0                    []                                  None  ...   \n",
       "1                    []                                  None  ...   \n",
       "2                    []  e35d36dc-483a-11e6-9cf1-0e4e72062cff  ...   \n",
       "3                    []                                  None  ...   \n",
       "4                    []                                  None  ...   \n",
       "\n",
       "  thumbnail_width                                              title  \\\n",
       "0             NaN  Weekly questions, bugs, and gameplay megathrea...   \n",
       "1             NaN  DEAR NIANTIC - ideas and suggestions for the devs   \n",
       "2             NaN                                SCORE! Thanks, Mom!   \n",
       "3           140.0  Pokemon Go Team Rocket event details leaked by...   \n",
       "4             NaN  Make LUCKY TRADES available from afar like Bat...   \n",
       "\n",
       "  total_awards_received  ups  \\\n",
       "0                     0   15   \n",
       "1                     0    3   \n",
       "2                     0  418   \n",
       "3                     0   78   \n",
       "4                     0  433   \n",
       "\n",
       "                                                 url user_reports view_count  \\\n",
       "0  https://www.reddit.com/r/pokemongo/comments/ca...           []       None   \n",
       "1  https://www.reddit.com/r/pokemongo/comments/ca...           []       None   \n",
       "2  https://www.reddit.com/r/pokemongo/comments/ca...           []       None   \n",
       "3  https://piunikaweb.com/2019/07/09/pokemon-go-t...           []       None   \n",
       "4  https://www.reddit.com/r/pokemongo/comments/ca...           []       None   \n",
       "\n",
       "   visited  whitelist_status wls  \n",
       "0    False           all_ads   6  \n",
       "1    False           all_ads   6  \n",
       "2    False           all_ads   6  \n",
       "3    False           all_ads   6  \n",
       "4    False           all_ads   6  \n",
       "\n",
       "[5 rows x 103 columns]"
      ]
     },
     "execution_count": 28,
     "metadata": {},
     "output_type": "execute_result"
    }
   ],
   "source": [
    "dfpogo = pd.DataFrame(posts_pogo)\n",
    "dfpogo.head()"
   ]
  },
  {
   "cell_type": "markdown",
   "metadata": {},
   "source": [
    "Will be using the same column as the previous dataframe when determining what rows are duplicate"
   ]
  },
  {
   "cell_type": "code",
   "execution_count": 29,
   "metadata": {},
   "outputs": [
    {
     "data": {
      "text/plain": [
       "(621, 103)"
      ]
     },
     "execution_count": 29,
     "metadata": {},
     "output_type": "execute_result"
    }
   ],
   "source": [
    "dfpogo.shape"
   ]
  },
  {
   "cell_type": "code",
   "execution_count": 30,
   "metadata": {},
   "outputs": [],
   "source": [
    "dfpogo.drop_duplicates(subset='permalink',inplace=True)"
   ]
  },
  {
   "cell_type": "code",
   "execution_count": 31,
   "metadata": {},
   "outputs": [
    {
     "data": {
      "text/plain": [
       "(419, 103)"
      ]
     },
     "execution_count": 31,
     "metadata": {},
     "output_type": "execute_result"
    }
   ],
   "source": [
    "dfpogo.shape"
   ]
  },
  {
   "cell_type": "code",
   "execution_count": 36,
   "metadata": {},
   "outputs": [],
   "source": [
    "dfpogo.to_csv('Pogo_scrape_0708.csv',index=False)"
   ]
  },
  {
   "cell_type": "markdown",
   "metadata": {},
   "source": [
    "**Reddit scrapping addendum, 07/09/19**"
   ]
  },
  {
   "cell_type": "code",
   "execution_count": 3,
   "metadata": {},
   "outputs": [
    {
     "name": "stdout",
     "output_type": "stream",
     "text": [
      "26 posts scraped for a total of 26\n",
      "Current after: t3_cb84s8\n",
      "25 posts scraped for a total of 51\n",
      "Current after: t3_cb84gd\n",
      "25 posts scraped for a total of 76\n",
      "Current after: t3_caswef\n",
      "25 posts scraped for a total of 101\n",
      "Current after: t3_cakjf8\n",
      "25 posts scraped for a total of 126\n",
      "Current after: t3_cahifj\n",
      "25 posts scraped for a total of 151\n",
      "Current after: t3_caafco\n",
      "25 posts scraped for a total of 176\n",
      "Current after: t3_cako46\n",
      "25 posts scraped for a total of 201\n",
      "Current after: t3_c9tija\n",
      "25 posts scraped for a total of 226\n",
      "Current after: t3_ca966s\n",
      "25 posts scraped for a total of 251\n",
      "Current after: t3_ca8ewl\n"
     ]
    }
   ],
   "source": [
    "#code run @ 6:44 PM on 7/9/19\n",
    "posts_silph_add = []\n",
    "after = \"\"\n",
    "for _ in range(10):\n",
    "    if after == \"\":\n",
    "        params = []\n",
    "    else:\n",
    "        params = {'after':after}\n",
    "    url = 'https://www.reddit.com/r/TheSilphRoad.json'\n",
    "    res = requests.get(url,params=params,headers=headers)\n",
    "    if res.status_code == 200:\n",
    "        the_json = res.json()\n",
    "        for post in the_json['data']['children']:\n",
    "            posts_silph_add.append(post['data'])\n",
    "        after = the_json['data']['after']\n",
    "    else:\n",
    "        print(res.status_code)\n",
    "        break\n",
    "        \n",
    "    print(f\"{len(the_json['data']['children'])} posts scraped for a total of {len(posts_silph_add)}\")\n",
    "    print(f\"Current after: {after}\")\n",
    "    time.sleep(1)"
   ]
  },
  {
   "cell_type": "code",
   "execution_count": 4,
   "metadata": {},
   "outputs": [
    {
     "name": "stdout",
     "output_type": "stream",
     "text": [
      "27 posts scraped for a total of 27\n",
      "Current after: t3_cb92js\n",
      "25 posts scraped for a total of 52\n",
      "Current after: t3_cakw4j\n",
      "25 posts scraped for a total of 77\n",
      "Current after: t3_cb2awy\n",
      "25 posts scraped for a total of 102\n",
      "Current after: t3_cb11au\n",
      "25 posts scraped for a total of 127\n",
      "Current after: t3_caufo1\n",
      "25 posts scraped for a total of 152\n",
      "Current after: t3_cavjo5\n",
      "25 posts scraped for a total of 177\n",
      "Current after: t3_caitgj\n",
      "25 posts scraped for a total of 202\n",
      "Current after: t3_caltuj\n",
      "25 posts scraped for a total of 227\n",
      "Current after: t3_ca745c\n",
      "25 posts scraped for a total of 252\n",
      "Current after: t3_ca4xgq\n"
     ]
    }
   ],
   "source": [
    "#code run @ 6:45 PM on 7/9/19\n",
    "posts_pogo_add = []\n",
    "after = \"\"\n",
    "for _ in range(10):\n",
    "    if after == \"\":\n",
    "        params = []\n",
    "    else:\n",
    "        params = {'after':after}\n",
    "    url = 'https://www.reddit.com/r/pokemongo.json'\n",
    "    res = requests.get(url,params=params,headers=headers)\n",
    "    if res.status_code == 200:\n",
    "        the_json = res.json()\n",
    "        for post in the_json['data']['children']:\n",
    "            posts_pogo_add.append(post['data'])\n",
    "        after = the_json['data']['after']\n",
    "    else:\n",
    "        print(res.status_code)\n",
    "        break\n",
    "        \n",
    "    print(f\"{len(the_json['data']['children'])} posts scraped for a total of {len(posts_pogo_add)}\")\n",
    "    print(f\"Current after: {after}\")\n",
    "    time.sleep(1)"
   ]
  },
  {
   "cell_type": "code",
   "execution_count": 5,
   "metadata": {},
   "outputs": [],
   "source": [
    "#import previous day's scrape\n",
    "dfpogo = pd.read_csv('Pogo_scrape_0708.csv')"
   ]
  },
  {
   "cell_type": "code",
   "execution_count": 6,
   "metadata": {},
   "outputs": [],
   "source": [
    "#import previous day's scrape\n",
    "dfsilph = pd.read_csv('Silph_scrape_0708.csv')"
   ]
  },
  {
   "cell_type": "code",
   "execution_count": 10,
   "metadata": {},
   "outputs": [],
   "source": [
    "#convert current day's scrape to a dataframe\n",
    "dfsilphadd = pd.DataFrame(posts_silph_add)"
   ]
  },
  {
   "cell_type": "code",
   "execution_count": 11,
   "metadata": {},
   "outputs": [],
   "source": [
    "#convert current day's scrape to a dataframe\n",
    "dfpogoadd = pd.DataFrame(posts_pogo_add)"
   ]
  },
  {
   "cell_type": "code",
   "execution_count": 12,
   "metadata": {},
   "outputs": [
    {
     "data": {
      "text/plain": [
       "(419, 103)"
      ]
     },
     "execution_count": 12,
     "metadata": {},
     "output_type": "execute_result"
    }
   ],
   "source": [
    "dfpogo.shape"
   ]
  },
  {
   "cell_type": "code",
   "execution_count": 13,
   "metadata": {},
   "outputs": [
    {
     "data": {
      "text/plain": [
       "(252, 103)"
      ]
     },
     "execution_count": 13,
     "metadata": {},
     "output_type": "execute_result"
    }
   ],
   "source": [
    "dfpogoadd.shape"
   ]
  },
  {
   "cell_type": "code",
   "execution_count": 14,
   "metadata": {},
   "outputs": [],
   "source": [
    "#combine dataframes\n",
    "dfpogo = pd.concat([dfpogo,dfpogoadd],sort='False',ignore_index=True)"
   ]
  },
  {
   "cell_type": "code",
   "execution_count": 16,
   "metadata": {},
   "outputs": [
    {
     "data": {
      "text/plain": [
       "(671, 103)"
      ]
     },
     "execution_count": 16,
     "metadata": {},
     "output_type": "execute_result"
    }
   ],
   "source": [
    "dfpogo.shape"
   ]
  },
  {
   "cell_type": "code",
   "execution_count": 17,
   "metadata": {},
   "outputs": [],
   "source": [
    "#remove duplicates\n",
    "dfpogo.drop_duplicates(subset='permalink',inplace=True)"
   ]
  },
  {
   "cell_type": "code",
   "execution_count": 18,
   "metadata": {},
   "outputs": [
    {
     "data": {
      "text/plain": [
       "(543, 103)"
      ]
     },
     "execution_count": 18,
     "metadata": {},
     "output_type": "execute_result"
    }
   ],
   "source": [
    "dfpogo.shape"
   ]
  },
  {
   "cell_type": "code",
   "execution_count": 19,
   "metadata": {},
   "outputs": [
    {
     "data": {
      "text/html": [
       "<div>\n",
       "<style scoped>\n",
       "    .dataframe tbody tr th:only-of-type {\n",
       "        vertical-align: middle;\n",
       "    }\n",
       "\n",
       "    .dataframe tbody tr th {\n",
       "        vertical-align: top;\n",
       "    }\n",
       "\n",
       "    .dataframe thead th {\n",
       "        text-align: right;\n",
       "    }\n",
       "</style>\n",
       "<table border=\"1\" class=\"dataframe\">\n",
       "  <thead>\n",
       "    <tr style=\"text-align: right;\">\n",
       "      <th></th>\n",
       "      <th>all_awardings</th>\n",
       "      <th>allow_live_comments</th>\n",
       "      <th>approved_at_utc</th>\n",
       "      <th>approved_by</th>\n",
       "      <th>archived</th>\n",
       "      <th>author</th>\n",
       "      <th>author_flair_background_color</th>\n",
       "      <th>author_flair_css_class</th>\n",
       "      <th>author_flair_richtext</th>\n",
       "      <th>author_flair_template_id</th>\n",
       "      <th>...</th>\n",
       "      <th>thumbnail_width</th>\n",
       "      <th>title</th>\n",
       "      <th>total_awards_received</th>\n",
       "      <th>ups</th>\n",
       "      <th>url</th>\n",
       "      <th>user_reports</th>\n",
       "      <th>view_count</th>\n",
       "      <th>visited</th>\n",
       "      <th>whitelist_status</th>\n",
       "      <th>wls</th>\n",
       "    </tr>\n",
       "  </thead>\n",
       "  <tbody>\n",
       "    <tr>\n",
       "      <th>0</th>\n",
       "      <td>[]</td>\n",
       "      <td>False</td>\n",
       "      <td>NaN</td>\n",
       "      <td>NaN</td>\n",
       "      <td>False</td>\n",
       "      <td>AutoModerator</td>\n",
       "      <td>NaN</td>\n",
       "      <td>automod</td>\n",
       "      <td>[]</td>\n",
       "      <td>NaN</td>\n",
       "      <td>...</td>\n",
       "      <td>NaN</td>\n",
       "      <td>Weekly questions, bugs, and gameplay megathrea...</td>\n",
       "      <td>0</td>\n",
       "      <td>15</td>\n",
       "      <td>https://www.reddit.com/r/pokemongo/comments/ca...</td>\n",
       "      <td>[]</td>\n",
       "      <td>NaN</td>\n",
       "      <td>False</td>\n",
       "      <td>all_ads</td>\n",
       "      <td>6</td>\n",
       "    </tr>\n",
       "    <tr>\n",
       "      <th>1</th>\n",
       "      <td>[]</td>\n",
       "      <td>False</td>\n",
       "      <td>NaN</td>\n",
       "      <td>NaN</td>\n",
       "      <td>False</td>\n",
       "      <td>AutoModerator</td>\n",
       "      <td>NaN</td>\n",
       "      <td>automod</td>\n",
       "      <td>[]</td>\n",
       "      <td>NaN</td>\n",
       "      <td>...</td>\n",
       "      <td>NaN</td>\n",
       "      <td>DEAR NIANTIC - ideas and suggestions for the devs</td>\n",
       "      <td>0</td>\n",
       "      <td>3</td>\n",
       "      <td>https://www.reddit.com/r/pokemongo/comments/ca...</td>\n",
       "      <td>[]</td>\n",
       "      <td>NaN</td>\n",
       "      <td>False</td>\n",
       "      <td>all_ads</td>\n",
       "      <td>6</td>\n",
       "    </tr>\n",
       "    <tr>\n",
       "      <th>2</th>\n",
       "      <td>[]</td>\n",
       "      <td>True</td>\n",
       "      <td>NaN</td>\n",
       "      <td>NaN</td>\n",
       "      <td>False</td>\n",
       "      <td>haveyouseenthisclown</td>\n",
       "      <td>NaN</td>\n",
       "      <td>valor</td>\n",
       "      <td>[]</td>\n",
       "      <td>e35d36dc-483a-11e6-9cf1-0e4e72062cff</td>\n",
       "      <td>...</td>\n",
       "      <td>NaN</td>\n",
       "      <td>SCORE! Thanks, Mom!</td>\n",
       "      <td>0</td>\n",
       "      <td>418</td>\n",
       "      <td>https://www.reddit.com/r/pokemongo/comments/ca...</td>\n",
       "      <td>[]</td>\n",
       "      <td>NaN</td>\n",
       "      <td>False</td>\n",
       "      <td>all_ads</td>\n",
       "      <td>6</td>\n",
       "    </tr>\n",
       "    <tr>\n",
       "      <th>3</th>\n",
       "      <td>[]</td>\n",
       "      <td>True</td>\n",
       "      <td>NaN</td>\n",
       "      <td>NaN</td>\n",
       "      <td>False</td>\n",
       "      <td>Rykun3159</td>\n",
       "      <td>NaN</td>\n",
       "      <td>NaN</td>\n",
       "      <td>[]</td>\n",
       "      <td>NaN</td>\n",
       "      <td>...</td>\n",
       "      <td>140.0</td>\n",
       "      <td>Pokemon Go Team Rocket event details leaked by...</td>\n",
       "      <td>0</td>\n",
       "      <td>78</td>\n",
       "      <td>https://piunikaweb.com/2019/07/09/pokemon-go-t...</td>\n",
       "      <td>[]</td>\n",
       "      <td>NaN</td>\n",
       "      <td>False</td>\n",
       "      <td>all_ads</td>\n",
       "      <td>6</td>\n",
       "    </tr>\n",
       "    <tr>\n",
       "      <th>4</th>\n",
       "      <td>[]</td>\n",
       "      <td>True</td>\n",
       "      <td>NaN</td>\n",
       "      <td>NaN</td>\n",
       "      <td>False</td>\n",
       "      <td>Razorfunk</td>\n",
       "      <td>NaN</td>\n",
       "      <td>NaN</td>\n",
       "      <td>[]</td>\n",
       "      <td>NaN</td>\n",
       "      <td>...</td>\n",
       "      <td>NaN</td>\n",
       "      <td>Make LUCKY TRADES available from afar like Bat...</td>\n",
       "      <td>0</td>\n",
       "      <td>433</td>\n",
       "      <td>https://www.reddit.com/r/pokemongo/comments/ca...</td>\n",
       "      <td>[]</td>\n",
       "      <td>NaN</td>\n",
       "      <td>False</td>\n",
       "      <td>all_ads</td>\n",
       "      <td>6</td>\n",
       "    </tr>\n",
       "  </tbody>\n",
       "</table>\n",
       "<p>5 rows × 103 columns</p>\n",
       "</div>"
      ],
      "text/plain": [
       "  all_awardings  allow_live_comments approved_at_utc approved_by  archived  \\\n",
       "0            []                False             NaN         NaN     False   \n",
       "1            []                False             NaN         NaN     False   \n",
       "2            []                 True             NaN         NaN     False   \n",
       "3            []                 True             NaN         NaN     False   \n",
       "4            []                 True             NaN         NaN     False   \n",
       "\n",
       "                 author author_flair_background_color author_flair_css_class  \\\n",
       "0         AutoModerator                           NaN                automod   \n",
       "1         AutoModerator                           NaN                automod   \n",
       "2  haveyouseenthisclown                           NaN                  valor   \n",
       "3             Rykun3159                           NaN                    NaN   \n",
       "4             Razorfunk                           NaN                    NaN   \n",
       "\n",
       "  author_flair_richtext              author_flair_template_id  ...  \\\n",
       "0                    []                                   NaN  ...   \n",
       "1                    []                                   NaN  ...   \n",
       "2                    []  e35d36dc-483a-11e6-9cf1-0e4e72062cff  ...   \n",
       "3                    []                                   NaN  ...   \n",
       "4                    []                                   NaN  ...   \n",
       "\n",
       "  thumbnail_width                                              title  \\\n",
       "0             NaN  Weekly questions, bugs, and gameplay megathrea...   \n",
       "1             NaN  DEAR NIANTIC - ideas and suggestions for the devs   \n",
       "2             NaN                                SCORE! Thanks, Mom!   \n",
       "3           140.0  Pokemon Go Team Rocket event details leaked by...   \n",
       "4             NaN  Make LUCKY TRADES available from afar like Bat...   \n",
       "\n",
       "  total_awards_received  ups  \\\n",
       "0                     0   15   \n",
       "1                     0    3   \n",
       "2                     0  418   \n",
       "3                     0   78   \n",
       "4                     0  433   \n",
       "\n",
       "                                                 url user_reports view_count  \\\n",
       "0  https://www.reddit.com/r/pokemongo/comments/ca...           []        NaN   \n",
       "1  https://www.reddit.com/r/pokemongo/comments/ca...           []        NaN   \n",
       "2  https://www.reddit.com/r/pokemongo/comments/ca...           []        NaN   \n",
       "3  https://piunikaweb.com/2019/07/09/pokemon-go-t...           []        NaN   \n",
       "4  https://www.reddit.com/r/pokemongo/comments/ca...           []        NaN   \n",
       "\n",
       "   visited  whitelist_status wls  \n",
       "0    False           all_ads   6  \n",
       "1    False           all_ads   6  \n",
       "2    False           all_ads   6  \n",
       "3    False           all_ads   6  \n",
       "4    False           all_ads   6  \n",
       "\n",
       "[5 rows x 103 columns]"
      ]
     },
     "execution_count": 19,
     "metadata": {},
     "output_type": "execute_result"
    }
   ],
   "source": [
    "dfpogo.head()"
   ]
  },
  {
   "cell_type": "code",
   "execution_count": 20,
   "metadata": {},
   "outputs": [
    {
     "data": {
      "text/plain": [
       "(837, 104)"
      ]
     },
     "execution_count": 20,
     "metadata": {},
     "output_type": "execute_result"
    }
   ],
   "source": [
    "dfsilph.shape"
   ]
  },
  {
   "cell_type": "code",
   "execution_count": 21,
   "metadata": {},
   "outputs": [
    {
     "data": {
      "text/plain": [
       "(251, 104)"
      ]
     },
     "execution_count": 21,
     "metadata": {},
     "output_type": "execute_result"
    }
   ],
   "source": [
    "dfsilphadd.shape"
   ]
  },
  {
   "cell_type": "code",
   "execution_count": 22,
   "metadata": {},
   "outputs": [],
   "source": [
    "#combine dataframes\n",
    "dfsilph = pd.concat([dfsilph,dfsilphadd],sort='False',ignore_index=True)"
   ]
  },
  {
   "cell_type": "code",
   "execution_count": 23,
   "metadata": {},
   "outputs": [
    {
     "data": {
      "text/plain": [
       "(1088, 104)"
      ]
     },
     "execution_count": 23,
     "metadata": {},
     "output_type": "execute_result"
    }
   ],
   "source": [
    "dfsilph.shape"
   ]
  },
  {
   "cell_type": "code",
   "execution_count": 24,
   "metadata": {},
   "outputs": [],
   "source": [
    "#remove duplicates\n",
    "dfsilph.drop_duplicates(subset='permalink',inplace=True)"
   ]
  },
  {
   "cell_type": "code",
   "execution_count": 25,
   "metadata": {},
   "outputs": [
    {
     "data": {
      "text/plain": [
       "(935, 104)"
      ]
     },
     "execution_count": 25,
     "metadata": {},
     "output_type": "execute_result"
    }
   ],
   "source": [
    "dfsilph.shape"
   ]
  },
  {
   "cell_type": "code",
   "execution_count": 26,
   "metadata": {},
   "outputs": [],
   "source": [
    "#save off to CSV\n",
    "dfpogo.to_csv('Pogo_scrape_0708_0709.csv',index=False)"
   ]
  },
  {
   "cell_type": "code",
   "execution_count": 27,
   "metadata": {},
   "outputs": [],
   "source": [
    "#save off to CSV\n",
    "dfsilph.to_csv('Silph_scrape_0708_0709.csv',index=False)"
   ]
  },
  {
   "cell_type": "markdown",
   "metadata": {},
   "source": [
    "**Reddit scrapping addendum, 07/10/19**"
   ]
  },
  {
   "cell_type": "code",
   "execution_count": 4,
   "metadata": {},
   "outputs": [
    {
     "name": "stdout",
     "output_type": "stream",
     "text": [
      "26 posts scraped for a total of 26\n",
      "Current after: t3_cbcpv4\n",
      "25 posts scraped for a total of 51\n",
      "Current after: t3_cb19nh\n",
      "25 posts scraped for a total of 76\n",
      "Current after: t3_cblhdg\n",
      "25 posts scraped for a total of 101\n",
      "Current after: t3_cb9emb\n",
      "25 posts scraped for a total of 126\n",
      "Current after: t3_cbbtam\n",
      "25 posts scraped for a total of 151\n",
      "Current after: t3_cb76fe\n",
      "25 posts scraped for a total of 176\n",
      "Current after: t3_casejj\n",
      "25 posts scraped for a total of 201\n",
      "Current after: t3_cb8jf3\n",
      "25 posts scraped for a total of 226\n",
      "Current after: t3_cax9os\n",
      "25 posts scraped for a total of 251\n",
      "Current after: t3_caxr69\n"
     ]
    }
   ],
   "source": [
    "#code run @ 4:12 PM on 7/10/19\n",
    "posts_silph_add = []\n",
    "after = \"\"\n",
    "for _ in range(10):\n",
    "    if after == \"\":\n",
    "        params = []\n",
    "    else:\n",
    "        params = {'after':after}\n",
    "    url = 'https://www.reddit.com/r/TheSilphRoad.json'\n",
    "    res = requests.get(url,params=params,headers=headers)\n",
    "    if res.status_code == 200:\n",
    "        the_json = res.json()\n",
    "        for post in the_json['data']['children']:\n",
    "            posts_silph_add.append(post['data'])\n",
    "        after = the_json['data']['after']\n",
    "    else:\n",
    "        print(res.status_code)\n",
    "        break\n",
    "        \n",
    "    print(f\"{len(the_json['data']['children'])} posts scraped for a total of {len(posts_silph_add)}\")\n",
    "    print(f\"Current after: {after}\")\n",
    "    time.sleep(1)"
   ]
  },
  {
   "cell_type": "code",
   "execution_count": 5,
   "metadata": {},
   "outputs": [
    {
     "name": "stdout",
     "output_type": "stream",
     "text": [
      "27 posts scraped for a total of 27\n",
      "Current after: t3_cbdxsq\n",
      "25 posts scraped for a total of 52\n",
      "Current after: t3_cb24jc\n",
      "25 posts scraped for a total of 77\n",
      "Current after: t3_cb7utm\n",
      "25 posts scraped for a total of 102\n",
      "Current after: t3_cbgjf2\n",
      "25 posts scraped for a total of 127\n",
      "Current after: t3_cbbq61\n",
      "25 posts scraped for a total of 152\n",
      "Current after: t3_cb5uaw\n",
      "25 posts scraped for a total of 177\n",
      "Current after: t3_cb5x7v\n",
      "25 posts scraped for a total of 202\n",
      "Current after: t3_cb6kbj\n",
      "25 posts scraped for a total of 227\n",
      "Current after: t3_cackjw\n",
      "25 posts scraped for a total of 252\n",
      "Current after: t3_caugei\n"
     ]
    }
   ],
   "source": [
    "#code run @ 4:14 PM on 7/10/19\n",
    "posts_pogo_add = []\n",
    "after = \"\"\n",
    "for _ in range(10):\n",
    "    if after == \"\":\n",
    "        params = []\n",
    "    else:\n",
    "        params = {'after':after}\n",
    "    url = 'https://www.reddit.com/r/pokemongo.json'\n",
    "    res = requests.get(url,params=params,headers=headers)\n",
    "    if res.status_code == 200:\n",
    "        the_json = res.json()\n",
    "        for post in the_json['data']['children']:\n",
    "            posts_pogo_add.append(post['data'])\n",
    "        after = the_json['data']['after']\n",
    "    else:\n",
    "        print(res.status_code)\n",
    "        break\n",
    "        \n",
    "    print(f\"{len(the_json['data']['children'])} posts scraped for a total of {len(posts_pogo_add)}\")\n",
    "    print(f\"Current after: {after}\")\n",
    "    time.sleep(1)"
   ]
  },
  {
   "cell_type": "code",
   "execution_count": 6,
   "metadata": {},
   "outputs": [],
   "source": [
    "dfpogo = pd.read_csv('Pogo_scrape_0708_0709.csv')"
   ]
  },
  {
   "cell_type": "code",
   "execution_count": 7,
   "metadata": {},
   "outputs": [],
   "source": [
    "dfsilph = pd.read_csv('Silph_scrape_0708_0709.csv')"
   ]
  },
  {
   "cell_type": "code",
   "execution_count": 8,
   "metadata": {},
   "outputs": [],
   "source": [
    "dfsilphadd = pd.DataFrame(posts_silph_add)"
   ]
  },
  {
   "cell_type": "code",
   "execution_count": 9,
   "metadata": {},
   "outputs": [],
   "source": [
    "dfpogoadd = pd.DataFrame(posts_pogo_add)"
   ]
  },
  {
   "cell_type": "code",
   "execution_count": 10,
   "metadata": {},
   "outputs": [
    {
     "data": {
      "text/plain": [
       "(543, 103)"
      ]
     },
     "execution_count": 10,
     "metadata": {},
     "output_type": "execute_result"
    }
   ],
   "source": [
    "dfpogo.shape"
   ]
  },
  {
   "cell_type": "code",
   "execution_count": 11,
   "metadata": {},
   "outputs": [
    {
     "data": {
      "text/plain": [
       "(252, 103)"
      ]
     },
     "execution_count": 11,
     "metadata": {},
     "output_type": "execute_result"
    }
   ],
   "source": [
    "dfpogoadd.shape"
   ]
  },
  {
   "cell_type": "code",
   "execution_count": 12,
   "metadata": {},
   "outputs": [],
   "source": [
    "dfpogo = pd.concat([dfpogo,dfpogoadd],sort='False',ignore_index=True)"
   ]
  },
  {
   "cell_type": "code",
   "execution_count": 13,
   "metadata": {},
   "outputs": [
    {
     "data": {
      "text/plain": [
       "(795, 103)"
      ]
     },
     "execution_count": 13,
     "metadata": {},
     "output_type": "execute_result"
    }
   ],
   "source": [
    "dfpogo.shape"
   ]
  },
  {
   "cell_type": "code",
   "execution_count": 14,
   "metadata": {},
   "outputs": [],
   "source": [
    "dfpogo.drop_duplicates(subset='permalink',inplace=True)"
   ]
  },
  {
   "cell_type": "code",
   "execution_count": 15,
   "metadata": {},
   "outputs": [
    {
     "data": {
      "text/plain": [
       "(655, 103)"
      ]
     },
     "execution_count": 15,
     "metadata": {},
     "output_type": "execute_result"
    }
   ],
   "source": [
    "dfpogo.shape"
   ]
  },
  {
   "cell_type": "code",
   "execution_count": 16,
   "metadata": {},
   "outputs": [
    {
     "data": {
      "text/plain": [
       "(935, 104)"
      ]
     },
     "execution_count": 16,
     "metadata": {},
     "output_type": "execute_result"
    }
   ],
   "source": [
    "dfsilph.shape"
   ]
  },
  {
   "cell_type": "code",
   "execution_count": 17,
   "metadata": {},
   "outputs": [
    {
     "data": {
      "text/plain": [
       "(251, 103)"
      ]
     },
     "execution_count": 17,
     "metadata": {},
     "output_type": "execute_result"
    }
   ],
   "source": [
    "dfsilphadd.shape"
   ]
  },
  {
   "cell_type": "code",
   "execution_count": 18,
   "metadata": {},
   "outputs": [],
   "source": [
    "dfsilph = pd.concat([dfsilph,dfsilphadd],sort='False',ignore_index=True)"
   ]
  },
  {
   "cell_type": "code",
   "execution_count": 19,
   "metadata": {},
   "outputs": [
    {
     "data": {
      "text/plain": [
       "(1186, 104)"
      ]
     },
     "execution_count": 19,
     "metadata": {},
     "output_type": "execute_result"
    }
   ],
   "source": [
    "dfsilph.shape"
   ]
  },
  {
   "cell_type": "code",
   "execution_count": 20,
   "metadata": {},
   "outputs": [],
   "source": [
    "dfsilph.drop_duplicates(subset='permalink',inplace=True)"
   ]
  },
  {
   "cell_type": "code",
   "execution_count": 21,
   "metadata": {},
   "outputs": [
    {
     "data": {
      "text/plain": [
       "(1048, 104)"
      ]
     },
     "execution_count": 21,
     "metadata": {},
     "output_type": "execute_result"
    }
   ],
   "source": [
    "dfsilph.shape"
   ]
  },
  {
   "cell_type": "code",
   "execution_count": 22,
   "metadata": {},
   "outputs": [],
   "source": [
    "dfpogo.to_csv('Pogo_scrape_fin.csv',index=False)"
   ]
  },
  {
   "cell_type": "code",
   "execution_count": 23,
   "metadata": {},
   "outputs": [],
   "source": [
    "dfsilph.to_csv('Silph_scrape_fin.csv',index=False)"
   ]
  }
 ],
 "metadata": {
  "kernelspec": {
   "display_name": "Python 3",
   "language": "python",
   "name": "python3"
  },
  "language_info": {
   "codemirror_mode": {
    "name": "ipython",
    "version": 3
   },
   "file_extension": ".py",
   "mimetype": "text/x-python",
   "name": "python",
   "nbconvert_exporter": "python",
   "pygments_lexer": "ipython3",
   "version": "3.7.3"
  }
 },
 "nbformat": 4,
 "nbformat_minor": 2
}
